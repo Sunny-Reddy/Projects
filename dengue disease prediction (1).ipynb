{
 "cells": [
  {
   "cell_type": "markdown",
   "metadata": {},
   "source": [
    "### Problem statement"
   ]
  },
  {
   "cell_type": "markdown",
   "metadata": {},
   "source": [
    "- To predict the spread of dengue disease based on climatic conditions specifically - humidity, temperature and precipitation levels. "
   ]
  },
  {
   "cell_type": "markdown",
   "metadata": {},
   "source": [
    "### Dataset\n",
    "- The datasets are downloaded from  Tycho.pitt\n",
    "https://www.tycho.pitt.edu/dataset/IN.38362002/#\n",
    "- The dataset consists of climate data provided by U.S. environmental agencies and the total number of reported dengue patients in a weekly timescale. City and date indicators,This data describes the city that’s related to the data, and the starting date of the week of the data.\n",
    "- Dataset contains: 1456 rows and 15 columns.\n",
    "- It includes features like weather station measurements, precipitation measurements of satellite, climate forecast system reanalyzed measurements and vegetation index information.\n",
    "- Target column is Total cases.\n"
   ]
  },
  {
   "cell_type": "markdown",
   "metadata": {},
   "source": [
    "### Importing the libraries"
   ]
  },
  {
   "cell_type": "code",
   "execution_count": 1,
   "metadata": {},
   "outputs": [],
   "source": [
    "import numpy as np\n",
    "import seaborn as sns\n",
    "import matplotlib.pyplot as plt\n",
    "import pandas as pd\n",
    "%matplotlib inline"
   ]
  },
  {
   "cell_type": "code",
   "execution_count": 2,
   "metadata": {},
   "outputs": [
    {
     "name": "stdout",
     "output_type": "stream",
     "text": [
      "numpy: 1.16.5\n",
      "pandas: 0.25.1\n",
      "seaborn: 0.9.0\n",
      "matplotlib: 3.1.1\n"
     ]
    }
   ],
   "source": [
    "#Checking the versions of the packages imported\n",
    "import numpy\n",
    "import matplotlib\n",
    "print('numpy:',numpy.__version__)\n",
    "print('pandas:',pd.__version__)\n",
    "print('seaborn:',sns.__version__)\n",
    "print('matplotlib:',matplotlib.__version__)\n"
   ]
  },
  {
   "cell_type": "markdown",
   "metadata": {},
   "source": [
    "### Importing the dataset"
   ]
  },
  {
   "cell_type": "code",
   "execution_count": 3,
   "metadata": {},
   "outputs": [],
   "source": [
    "xt = pd.read_csv('dengue_features_train.csv')\n",
    "yt = pd.read_csv('dengue_labels_train.csv')\n",
    "wt = pd.read_csv('dengue_features_test.csv')"
   ]
  },
  {
   "cell_type": "code",
   "execution_count": 4,
   "metadata": {},
   "outputs": [
    {
     "data": {
      "text/html": [
       "<div>\n",
       "<style scoped>\n",
       "    .dataframe tbody tr th:only-of-type {\n",
       "        vertical-align: middle;\n",
       "    }\n",
       "\n",
       "    .dataframe tbody tr th {\n",
       "        vertical-align: top;\n",
       "    }\n",
       "\n",
       "    .dataframe thead th {\n",
       "        text-align: right;\n",
       "    }\n",
       "</style>\n",
       "<table border=\"1\" class=\"dataframe\">\n",
       "  <thead>\n",
       "    <tr style=\"text-align: right;\">\n",
       "      <th></th>\n",
       "      <th>city</th>\n",
       "      <th>year</th>\n",
       "      <th>weekofyear</th>\n",
       "      <th>week_start_date</th>\n",
       "      <th>ndvi_ne</th>\n",
       "      <th>ndvi_nw</th>\n",
       "      <th>ndvi_se</th>\n",
       "      <th>ndvi_sw</th>\n",
       "      <th>precipitation_amt_mm</th>\n",
       "      <th>reanalysis_air_temp_k</th>\n",
       "      <th>reanalysis_avg_temp_k</th>\n",
       "      <th>reanalysis_dew_point_temp_k</th>\n",
       "      <th>reanalysis_precip_amt_kg_per_m2</th>\n",
       "      <th>reanalysis_relative_humidity_percent</th>\n",
       "      <th>station_avg_temp_c</th>\n",
       "    </tr>\n",
       "  </thead>\n",
       "  <tbody>\n",
       "    <tr>\n",
       "      <td>0</td>\n",
       "      <td>sj</td>\n",
       "      <td>1990</td>\n",
       "      <td>18</td>\n",
       "      <td>30-04-1990</td>\n",
       "      <td>0.122600</td>\n",
       "      <td>0.103725</td>\n",
       "      <td>0.198483</td>\n",
       "      <td>0.177617</td>\n",
       "      <td>12.42</td>\n",
       "      <td>297.572857</td>\n",
       "      <td>297.742857</td>\n",
       "      <td>292.414286</td>\n",
       "      <td>32.00</td>\n",
       "      <td>73.365714</td>\n",
       "      <td>25.442857</td>\n",
       "    </tr>\n",
       "    <tr>\n",
       "      <td>1</td>\n",
       "      <td>sj</td>\n",
       "      <td>1990</td>\n",
       "      <td>19</td>\n",
       "      <td>07-05-1990</td>\n",
       "      <td>0.169900</td>\n",
       "      <td>0.142175</td>\n",
       "      <td>0.162357</td>\n",
       "      <td>0.155486</td>\n",
       "      <td>22.82</td>\n",
       "      <td>298.211429</td>\n",
       "      <td>298.442857</td>\n",
       "      <td>293.951429</td>\n",
       "      <td>17.94</td>\n",
       "      <td>77.368571</td>\n",
       "      <td>26.714286</td>\n",
       "    </tr>\n",
       "    <tr>\n",
       "      <td>2</td>\n",
       "      <td>sj</td>\n",
       "      <td>1990</td>\n",
       "      <td>20</td>\n",
       "      <td>14-05-1990</td>\n",
       "      <td>0.032250</td>\n",
       "      <td>0.172967</td>\n",
       "      <td>0.157200</td>\n",
       "      <td>0.170843</td>\n",
       "      <td>34.54</td>\n",
       "      <td>298.781429</td>\n",
       "      <td>298.878571</td>\n",
       "      <td>295.434286</td>\n",
       "      <td>26.10</td>\n",
       "      <td>82.052857</td>\n",
       "      <td>26.714286</td>\n",
       "    </tr>\n",
       "    <tr>\n",
       "      <td>3</td>\n",
       "      <td>sj</td>\n",
       "      <td>1990</td>\n",
       "      <td>21</td>\n",
       "      <td>21-05-1990</td>\n",
       "      <td>0.128633</td>\n",
       "      <td>0.245067</td>\n",
       "      <td>0.227557</td>\n",
       "      <td>0.235886</td>\n",
       "      <td>15.36</td>\n",
       "      <td>298.987143</td>\n",
       "      <td>299.228571</td>\n",
       "      <td>295.310000</td>\n",
       "      <td>13.90</td>\n",
       "      <td>80.337143</td>\n",
       "      <td>27.471429</td>\n",
       "    </tr>\n",
       "    <tr>\n",
       "      <td>4</td>\n",
       "      <td>sj</td>\n",
       "      <td>1990</td>\n",
       "      <td>22</td>\n",
       "      <td>28-05-1990</td>\n",
       "      <td>0.196200</td>\n",
       "      <td>0.262200</td>\n",
       "      <td>0.251200</td>\n",
       "      <td>0.247340</td>\n",
       "      <td>7.52</td>\n",
       "      <td>299.518571</td>\n",
       "      <td>299.664286</td>\n",
       "      <td>295.821429</td>\n",
       "      <td>12.20</td>\n",
       "      <td>80.460000</td>\n",
       "      <td>28.942857</td>\n",
       "    </tr>\n",
       "  </tbody>\n",
       "</table>\n",
       "</div>"
      ],
      "text/plain": [
       "  city  year  weekofyear week_start_date   ndvi_ne   ndvi_nw   ndvi_se  \\\n",
       "0   sj  1990          18      30-04-1990  0.122600  0.103725  0.198483   \n",
       "1   sj  1990          19      07-05-1990  0.169900  0.142175  0.162357   \n",
       "2   sj  1990          20      14-05-1990  0.032250  0.172967  0.157200   \n",
       "3   sj  1990          21      21-05-1990  0.128633  0.245067  0.227557   \n",
       "4   sj  1990          22      28-05-1990  0.196200  0.262200  0.251200   \n",
       "\n",
       "    ndvi_sw  precipitation_amt_mm  reanalysis_air_temp_k  \\\n",
       "0  0.177617                 12.42             297.572857   \n",
       "1  0.155486                 22.82             298.211429   \n",
       "2  0.170843                 34.54             298.781429   \n",
       "3  0.235886                 15.36             298.987143   \n",
       "4  0.247340                  7.52             299.518571   \n",
       "\n",
       "   reanalysis_avg_temp_k  reanalysis_dew_point_temp_k  \\\n",
       "0             297.742857                   292.414286   \n",
       "1             298.442857                   293.951429   \n",
       "2             298.878571                   295.434286   \n",
       "3             299.228571                   295.310000   \n",
       "4             299.664286                   295.821429   \n",
       "\n",
       "   reanalysis_precip_amt_kg_per_m2  reanalysis_relative_humidity_percent  \\\n",
       "0                            32.00                             73.365714   \n",
       "1                            17.94                             77.368571   \n",
       "2                            26.10                             82.052857   \n",
       "3                            13.90                             80.337143   \n",
       "4                            12.20                             80.460000   \n",
       "\n",
       "   station_avg_temp_c  \n",
       "0           25.442857  \n",
       "1           26.714286  \n",
       "2           26.714286  \n",
       "3           27.471429  \n",
       "4           28.942857  "
      ]
     },
     "execution_count": 4,
     "metadata": {},
     "output_type": "execute_result"
    }
   ],
   "source": [
    "#retrieving top 5 rows of the csv file\n",
    "xt.head()"
   ]
  },
  {
   "cell_type": "code",
   "execution_count": 5,
   "metadata": {},
   "outputs": [
    {
     "data": {
      "text/plain": [
       "(1456, 15)"
      ]
     },
     "execution_count": 5,
     "metadata": {},
     "output_type": "execute_result"
    }
   ],
   "source": [
    "#checking the total number of columns and rows in the given dataset.\n",
    "xt.shape"
   ]
  },
  {
   "cell_type": "code",
   "execution_count": 6,
   "metadata": {},
   "outputs": [
    {
     "data": {
      "text/plain": [
       "Index(['city', 'year', 'weekofyear', 'week_start_date', 'ndvi_ne', 'ndvi_nw',\n",
       "       'ndvi_se', 'ndvi_sw', 'precipitation_amt_mm', 'reanalysis_air_temp_k',\n",
       "       'reanalysis_avg_temp_k', 'reanalysis_dew_point_temp_k',\n",
       "       'reanalysis_precip_amt_kg_per_m2',\n",
       "       'reanalysis_relative_humidity_percent', 'station_avg_temp_c'],\n",
       "      dtype='object')"
      ]
     },
     "execution_count": 6,
     "metadata": {},
     "output_type": "execute_result"
    }
   ],
   "source": [
    "#To display all the column names in the dataset\n",
    "xt.columns"
   ]
  },
  {
   "cell_type": "code",
   "execution_count": 7,
   "metadata": {},
   "outputs": [
    {
     "name": "stdout",
     "output_type": "stream",
     "text": [
      "<class 'pandas.core.frame.DataFrame'>\n",
      "RangeIndex: 1456 entries, 0 to 1455\n",
      "Data columns (total 15 columns):\n",
      "city                                    1456 non-null object\n",
      "year                                    1456 non-null int64\n",
      "weekofyear                              1456 non-null int64\n",
      "week_start_date                         1456 non-null object\n",
      "ndvi_ne                                 1262 non-null float64\n",
      "ndvi_nw                                 1404 non-null float64\n",
      "ndvi_se                                 1434 non-null float64\n",
      "ndvi_sw                                 1434 non-null float64\n",
      "precipitation_amt_mm                    1443 non-null float64\n",
      "reanalysis_air_temp_k                   1446 non-null float64\n",
      "reanalysis_avg_temp_k                   1446 non-null float64\n",
      "reanalysis_dew_point_temp_k             1446 non-null float64\n",
      "reanalysis_precip_amt_kg_per_m2         1446 non-null float64\n",
      "reanalysis_relative_humidity_percent    1446 non-null float64\n",
      "station_avg_temp_c                      1413 non-null float64\n",
      "dtypes: float64(11), int64(2), object(2)\n",
      "memory usage: 170.8+ KB\n"
     ]
    }
   ],
   "source": [
    "#To display the information of the columns.\n",
    "xt.info()"
   ]
  },
  {
   "cell_type": "code",
   "execution_count": 8,
   "metadata": {},
   "outputs": [
    {
     "data": {
      "text/html": [
       "<div>\n",
       "<style scoped>\n",
       "    .dataframe tbody tr th:only-of-type {\n",
       "        vertical-align: middle;\n",
       "    }\n",
       "\n",
       "    .dataframe tbody tr th {\n",
       "        vertical-align: top;\n",
       "    }\n",
       "\n",
       "    .dataframe thead th {\n",
       "        text-align: right;\n",
       "    }\n",
       "</style>\n",
       "<table border=\"1\" class=\"dataframe\">\n",
       "  <thead>\n",
       "    <tr style=\"text-align: right;\">\n",
       "      <th></th>\n",
       "      <th>count</th>\n",
       "      <th>mean</th>\n",
       "      <th>std</th>\n",
       "      <th>min</th>\n",
       "      <th>25%</th>\n",
       "      <th>50%</th>\n",
       "      <th>75%</th>\n",
       "      <th>max</th>\n",
       "    </tr>\n",
       "  </thead>\n",
       "  <tbody>\n",
       "    <tr>\n",
       "      <td>year</td>\n",
       "      <td>1456.0</td>\n",
       "      <td>2001.031593</td>\n",
       "      <td>5.408314</td>\n",
       "      <td>1990.000000</td>\n",
       "      <td>1997.000000</td>\n",
       "      <td>2002.000000</td>\n",
       "      <td>2005.000000</td>\n",
       "      <td>2010.000000</td>\n",
       "    </tr>\n",
       "    <tr>\n",
       "      <td>weekofyear</td>\n",
       "      <td>1456.0</td>\n",
       "      <td>26.503434</td>\n",
       "      <td>15.019437</td>\n",
       "      <td>1.000000</td>\n",
       "      <td>13.750000</td>\n",
       "      <td>26.500000</td>\n",
       "      <td>39.250000</td>\n",
       "      <td>53.000000</td>\n",
       "    </tr>\n",
       "    <tr>\n",
       "      <td>ndvi_ne</td>\n",
       "      <td>1262.0</td>\n",
       "      <td>0.142294</td>\n",
       "      <td>0.140531</td>\n",
       "      <td>-0.406250</td>\n",
       "      <td>0.044950</td>\n",
       "      <td>0.128817</td>\n",
       "      <td>0.248483</td>\n",
       "      <td>0.508357</td>\n",
       "    </tr>\n",
       "    <tr>\n",
       "      <td>ndvi_nw</td>\n",
       "      <td>1404.0</td>\n",
       "      <td>0.130553</td>\n",
       "      <td>0.119999</td>\n",
       "      <td>-0.456100</td>\n",
       "      <td>0.049217</td>\n",
       "      <td>0.121429</td>\n",
       "      <td>0.216600</td>\n",
       "      <td>0.454429</td>\n",
       "    </tr>\n",
       "    <tr>\n",
       "      <td>ndvi_se</td>\n",
       "      <td>1434.0</td>\n",
       "      <td>0.203783</td>\n",
       "      <td>0.073860</td>\n",
       "      <td>-0.015533</td>\n",
       "      <td>0.155087</td>\n",
       "      <td>0.196050</td>\n",
       "      <td>0.248846</td>\n",
       "      <td>0.538314</td>\n",
       "    </tr>\n",
       "    <tr>\n",
       "      <td>ndvi_sw</td>\n",
       "      <td>1434.0</td>\n",
       "      <td>0.202305</td>\n",
       "      <td>0.083903</td>\n",
       "      <td>-0.063457</td>\n",
       "      <td>0.144209</td>\n",
       "      <td>0.189450</td>\n",
       "      <td>0.246982</td>\n",
       "      <td>0.546017</td>\n",
       "    </tr>\n",
       "    <tr>\n",
       "      <td>precipitation_amt_mm</td>\n",
       "      <td>1443.0</td>\n",
       "      <td>45.760388</td>\n",
       "      <td>43.715537</td>\n",
       "      <td>0.000000</td>\n",
       "      <td>9.800000</td>\n",
       "      <td>38.340000</td>\n",
       "      <td>70.235000</td>\n",
       "      <td>390.600000</td>\n",
       "    </tr>\n",
       "    <tr>\n",
       "      <td>reanalysis_air_temp_k</td>\n",
       "      <td>1446.0</td>\n",
       "      <td>298.701852</td>\n",
       "      <td>1.362420</td>\n",
       "      <td>294.635714</td>\n",
       "      <td>297.658929</td>\n",
       "      <td>298.646429</td>\n",
       "      <td>299.833571</td>\n",
       "      <td>302.200000</td>\n",
       "    </tr>\n",
       "    <tr>\n",
       "      <td>reanalysis_avg_temp_k</td>\n",
       "      <td>1446.0</td>\n",
       "      <td>299.225578</td>\n",
       "      <td>1.261715</td>\n",
       "      <td>294.892857</td>\n",
       "      <td>298.257143</td>\n",
       "      <td>299.289286</td>\n",
       "      <td>300.207143</td>\n",
       "      <td>302.928571</td>\n",
       "    </tr>\n",
       "    <tr>\n",
       "      <td>reanalysis_dew_point_temp_k</td>\n",
       "      <td>1446.0</td>\n",
       "      <td>295.246356</td>\n",
       "      <td>1.527810</td>\n",
       "      <td>289.642857</td>\n",
       "      <td>294.118929</td>\n",
       "      <td>295.640714</td>\n",
       "      <td>296.460000</td>\n",
       "      <td>298.450000</td>\n",
       "    </tr>\n",
       "    <tr>\n",
       "      <td>reanalysis_precip_amt_kg_per_m2</td>\n",
       "      <td>1446.0</td>\n",
       "      <td>40.151819</td>\n",
       "      <td>43.434399</td>\n",
       "      <td>0.000000</td>\n",
       "      <td>13.055000</td>\n",
       "      <td>27.245000</td>\n",
       "      <td>52.200000</td>\n",
       "      <td>570.500000</td>\n",
       "    </tr>\n",
       "    <tr>\n",
       "      <td>reanalysis_relative_humidity_percent</td>\n",
       "      <td>1446.0</td>\n",
       "      <td>82.161959</td>\n",
       "      <td>7.153897</td>\n",
       "      <td>57.787143</td>\n",
       "      <td>77.177143</td>\n",
       "      <td>80.301429</td>\n",
       "      <td>86.357857</td>\n",
       "      <td>98.610000</td>\n",
       "    </tr>\n",
       "    <tr>\n",
       "      <td>station_avg_temp_c</td>\n",
       "      <td>1413.0</td>\n",
       "      <td>27.185783</td>\n",
       "      <td>1.292347</td>\n",
       "      <td>21.400000</td>\n",
       "      <td>26.300000</td>\n",
       "      <td>27.414286</td>\n",
       "      <td>28.157143</td>\n",
       "      <td>30.800000</td>\n",
       "    </tr>\n",
       "  </tbody>\n",
       "</table>\n",
       "</div>"
      ],
      "text/plain": [
       "                                       count         mean        std  \\\n",
       "year                                  1456.0  2001.031593   5.408314   \n",
       "weekofyear                            1456.0    26.503434  15.019437   \n",
       "ndvi_ne                               1262.0     0.142294   0.140531   \n",
       "ndvi_nw                               1404.0     0.130553   0.119999   \n",
       "ndvi_se                               1434.0     0.203783   0.073860   \n",
       "ndvi_sw                               1434.0     0.202305   0.083903   \n",
       "precipitation_amt_mm                  1443.0    45.760388  43.715537   \n",
       "reanalysis_air_temp_k                 1446.0   298.701852   1.362420   \n",
       "reanalysis_avg_temp_k                 1446.0   299.225578   1.261715   \n",
       "reanalysis_dew_point_temp_k           1446.0   295.246356   1.527810   \n",
       "reanalysis_precip_amt_kg_per_m2       1446.0    40.151819  43.434399   \n",
       "reanalysis_relative_humidity_percent  1446.0    82.161959   7.153897   \n",
       "station_avg_temp_c                    1413.0    27.185783   1.292347   \n",
       "\n",
       "                                              min          25%          50%  \\\n",
       "year                                  1990.000000  1997.000000  2002.000000   \n",
       "weekofyear                               1.000000    13.750000    26.500000   \n",
       "ndvi_ne                                 -0.406250     0.044950     0.128817   \n",
       "ndvi_nw                                 -0.456100     0.049217     0.121429   \n",
       "ndvi_se                                 -0.015533     0.155087     0.196050   \n",
       "ndvi_sw                                 -0.063457     0.144209     0.189450   \n",
       "precipitation_amt_mm                     0.000000     9.800000    38.340000   \n",
       "reanalysis_air_temp_k                  294.635714   297.658929   298.646429   \n",
       "reanalysis_avg_temp_k                  294.892857   298.257143   299.289286   \n",
       "reanalysis_dew_point_temp_k            289.642857   294.118929   295.640714   \n",
       "reanalysis_precip_amt_kg_per_m2          0.000000    13.055000    27.245000   \n",
       "reanalysis_relative_humidity_percent    57.787143    77.177143    80.301429   \n",
       "station_avg_temp_c                      21.400000    26.300000    27.414286   \n",
       "\n",
       "                                              75%          max  \n",
       "year                                  2005.000000  2010.000000  \n",
       "weekofyear                              39.250000    53.000000  \n",
       "ndvi_ne                                  0.248483     0.508357  \n",
       "ndvi_nw                                  0.216600     0.454429  \n",
       "ndvi_se                                  0.248846     0.538314  \n",
       "ndvi_sw                                  0.246982     0.546017  \n",
       "precipitation_amt_mm                    70.235000   390.600000  \n",
       "reanalysis_air_temp_k                  299.833571   302.200000  \n",
       "reanalysis_avg_temp_k                  300.207143   302.928571  \n",
       "reanalysis_dew_point_temp_k            296.460000   298.450000  \n",
       "reanalysis_precip_amt_kg_per_m2         52.200000   570.500000  \n",
       "reanalysis_relative_humidity_percent    86.357857    98.610000  \n",
       "station_avg_temp_c                      28.157143    30.800000  "
      ]
     },
     "execution_count": 8,
     "metadata": {},
     "output_type": "execute_result"
    }
   ],
   "source": [
    "#To display the statistical information of the columns\n",
    "xt.describe().T"
   ]
  },
  {
   "cell_type": "markdown",
   "metadata": {},
   "source": [
    "### To Get total number of nullvalues in each column"
   ]
  },
  {
   "cell_type": "code",
   "execution_count": 9,
   "metadata": {},
   "outputs": [
    {
     "data": {
      "text/plain": [
       "city                                      0\n",
       "year                                      0\n",
       "weekofyear                                0\n",
       "week_start_date                           0\n",
       "ndvi_ne                                 194\n",
       "ndvi_nw                                  52\n",
       "ndvi_se                                  22\n",
       "ndvi_sw                                  22\n",
       "precipitation_amt_mm                     13\n",
       "reanalysis_air_temp_k                    10\n",
       "reanalysis_avg_temp_k                    10\n",
       "reanalysis_dew_point_temp_k              10\n",
       "reanalysis_precip_amt_kg_per_m2          10\n",
       "reanalysis_relative_humidity_percent     10\n",
       "station_avg_temp_c                       43\n",
       "dtype: int64"
      ]
     },
     "execution_count": 9,
     "metadata": {},
     "output_type": "execute_result"
    }
   ],
   "source": [
    "xt.isnull().sum()"
   ]
  },
  {
   "cell_type": "code",
   "execution_count": 10,
   "metadata": {},
   "outputs": [],
   "source": [
    "# Required columns\n",
    "X = xt.iloc[:,4:].values\n",
    "y = yt.iloc[:, 3].values\n",
    "w = wt.iloc[:,4:].values"
   ]
  },
  {
   "cell_type": "markdown",
   "metadata": {},
   "source": [
    "### Handling missing values"
   ]
  },
  {
   "cell_type": "code",
   "execution_count": 11,
   "metadata": {},
   "outputs": [],
   "source": [
    "from sklearn.impute import SimpleImputer\n",
    "imputer = SimpleImputer(missing_values=np.nan, strategy='mean')\n",
    "imputer = imputer.fit(X)\n",
    "X = imputer.transform(X)\n",
    "\n",
    "imputer = imputer.fit(w)\n",
    "w = imputer.transform(w)"
   ]
  },
  {
   "cell_type": "markdown",
   "metadata": {},
   "source": [
    "### Splitting the dataset into training and test data."
   ]
  },
  {
   "cell_type": "code",
   "execution_count": 12,
   "metadata": {},
   "outputs": [],
   "source": [
    "from sklearn.model_selection import train_test_split\n",
    "X_train, X_test, y_train, y_test = train_test_split(X, y, test_size = 0.2, random_state = 0)"
   ]
  },
  {
   "cell_type": "code",
   "execution_count": 13,
   "metadata": {},
   "outputs": [
    {
     "name": "stdout",
     "output_type": "stream",
     "text": [
      "(1164, 11)\n",
      "(292, 11)\n",
      "(1164,)\n",
      "(292,)\n"
     ]
    }
   ],
   "source": [
    "print(X_train.shape)\n",
    "print(X_test.shape)\n",
    "print(y_train.shape)\n",
    "print(y_test.shape)"
   ]
  },
  {
   "cell_type": "code",
   "execution_count": 14,
   "metadata": {},
   "outputs": [],
   "source": [
    "from sklearn.model_selection import cross_val_score\n",
    "from sklearn.metrics import classification_report\n",
    "from sklearn.metrics import confusion_matrix\n",
    "from sklearn.metrics import accuracy_score\n"
   ]
  },
  {
   "cell_type": "code",
   "execution_count": 15,
   "metadata": {},
   "outputs": [],
   "source": [
    "##The fit() function calculates the values of these parameters.\n",
    "#The transform function applies the values of the parameters on the actual data and gives the normalized value.\n",
    "#predict() : given a trained model, predict the label of a new set of data. "
   ]
  },
  {
   "cell_type": "markdown",
   "metadata": {},
   "source": [
    "### Linear Regressor "
   ]
  },
  {
   "cell_type": "code",
   "execution_count": 16,
   "metadata": {},
   "outputs": [
    {
     "data": {
      "text/plain": [
       "LinearRegression()"
      ]
     },
     "execution_count": 16,
     "metadata": {},
     "output_type": "execute_result"
    }
   ],
   "source": [
    "from sklearn.linear_model import LinearRegression\n",
    "from sklearn.metrics import mean_squared_error, r2_score\n",
    "LR = LinearRegression()\n",
    "LR.fit(X_train, y_train)"
   ]
  },
  {
   "cell_type": "code",
   "execution_count": 17,
   "metadata": {},
   "outputs": [],
   "source": [
    "pred = LR.predict(X_test)"
   ]
  },
  {
   "cell_type": "code",
   "execution_count": 18,
   "metadata": {},
   "outputs": [],
   "source": [
    "test_set_rmse_LR = (np.sqrt(mean_squared_error(y_test, pred)))\n",
    "\n",
    "test_set_r2_LR = r2_score(y_test, pred)\n"
   ]
  },
  {
   "cell_type": "code",
   "execution_count": 19,
   "metadata": {},
   "outputs": [
    {
     "name": "stdout",
     "output_type": "stream",
     "text": [
      "42.41933699083568\n",
      "0.12752591219726783\n"
     ]
    }
   ],
   "source": [
    "print(test_set_rmse_LR)\n",
    "print(test_set_r2_LR)"
   ]
  },
  {
   "cell_type": "code",
   "execution_count": 20,
   "metadata": {},
   "outputs": [],
   "source": [
    "# Note that for rmse, the lower that value is, the better the fit\n",
    "# for r2 The closer towards 1, the better the fit."
   ]
  },
  {
   "cell_type": "markdown",
   "metadata": {},
   "source": [
    "### MLP - Neural Network"
   ]
  },
  {
   "cell_type": "code",
   "execution_count": 21,
   "metadata": {},
   "outputs": [
    {
     "data": {
      "text/plain": [
       "MLPClassifier()"
      ]
     },
     "execution_count": 21,
     "metadata": {},
     "output_type": "execute_result"
    }
   ],
   "source": [
    "from sklearn.neural_network import MLPClassifier\n",
    "MLP = MLPClassifier()\n",
    "MLP.fit(X_train, y_train)"
   ]
  },
  {
   "cell_type": "code",
   "execution_count": 22,
   "metadata": {},
   "outputs": [],
   "source": [
    "y_pred = MLP.predict(w)"
   ]
  },
  {
   "cell_type": "code",
   "execution_count": 23,
   "metadata": {
    "collapsed": true
   },
   "outputs": [
    {
     "name": "stdout",
     "output_type": "stream",
     "text": [
      "*Accuracy score for MLP:  71.91780821917808 \n",
      "\n",
      "*Confusion Matrix for MLP: \n",
      "[[15  0  1 ...  0  0  0]\n",
      " [ 7  0  4 ...  0  0  0]\n",
      " [10  0  4 ...  0  0  0]\n",
      " ...\n",
      " [ 1  0  0 ...  0  0  0]\n",
      " [ 1  0  0 ...  0  0  0]\n",
      " [ 0  0  1 ...  0  0  0]]\n",
      "*Classification Report for MLP: \n",
      "              precision    recall  f1-score   support\n",
      "\n",
      "           0       0.10      0.75      0.17        20\n",
      "           1       0.00      0.00      0.00        15\n",
      "           2       0.06      0.24      0.10        17\n",
      "           3       0.00      0.00      0.00        13\n",
      "           4       0.00      0.00      0.00        10\n",
      "           5       0.08      0.06      0.07        16\n",
      "           6       0.00      0.00      0.00        20\n",
      "           7       0.04      0.08      0.05        13\n",
      "           8       0.00      0.00      0.00         8\n",
      "           9       0.00      0.00      0.00         7\n",
      "          10       0.00      0.00      0.00         8\n",
      "          11       0.00      0.00      0.00        10\n",
      "          12       0.00      0.00      0.00         4\n",
      "          13       0.00      0.00      0.00         4\n",
      "          14       0.00      0.00      0.00         2\n",
      "          15       0.00      0.00      0.00         3\n",
      "          16       0.00      0.00      0.00         8\n",
      "          17       0.00      0.00      0.00         8\n",
      "          18       0.00      0.00      0.00         1\n",
      "          19       0.00      0.00      0.00         4\n",
      "          20       0.00      0.00      0.00         4\n",
      "          21       0.00      0.00      0.00         6\n",
      "          22       0.00      0.00      0.00         4\n",
      "          23       0.00      0.00      0.00         7\n",
      "          24       0.00      0.00      0.00         3\n",
      "          25       0.00      0.00      0.00         2\n",
      "          26       0.00      0.00      0.00         3\n",
      "          27       0.00      0.00      0.00         2\n",
      "          28       0.00      0.00      0.00         5\n",
      "          29       0.00      0.00      0.00         1\n",
      "          30       0.00      0.00      0.00         1\n",
      "          31       0.00      0.00      0.00         4\n",
      "          32       0.00      0.00      0.00         2\n",
      "          33       0.00      0.00      0.00         2\n",
      "          34       0.00      0.00      0.00         1\n",
      "          35       0.00      0.00      0.00         1\n",
      "          36       0.00      0.00      0.00         2\n",
      "          37       0.00      0.00      0.00         2\n",
      "          38       0.00      0.00      0.00         4\n",
      "          40       0.00      0.00      0.00         2\n",
      "          41       0.00      0.00      0.00         1\n",
      "          44       0.00      0.00      0.00         1\n",
      "          46       0.00      0.00      0.00         1\n",
      "          50       0.00      0.00      0.00         1\n",
      "          52       0.00      0.00      0.00         1\n",
      "          53       0.00      0.00      0.00         1\n",
      "          54       0.00      0.00      0.00         1\n",
      "          55       0.00      0.00      0.00         3\n",
      "          56       0.00      0.00      0.00         1\n",
      "          58       0.00      0.00      0.00         1\n",
      "          59       0.00      0.00      0.00         1\n",
      "          62       0.00      0.00      0.00         1\n",
      "          64       0.00      0.00      0.00         1\n",
      "          65       0.00      0.00      0.00         1\n",
      "          67       0.00      0.00      0.00         1\n",
      "          71       0.00      0.00      0.00         1\n",
      "          72       0.00      0.00      0.00         2\n",
      "          73       0.00      0.00      0.00         1\n",
      "          74       0.00      0.00      0.00         1\n",
      "          76       0.00      0.00      0.00         1\n",
      "          78       0.00      0.00      0.00         1\n",
      "          83       0.00      0.00      0.00         1\n",
      "          84       0.00      0.00      0.00         1\n",
      "          85       0.00      0.00      0.00         1\n",
      "          89       0.00      0.00      0.00         1\n",
      "          90       0.00      0.00      0.00         1\n",
      "         102       0.00      0.00      0.00         1\n",
      "         106       0.00      0.00      0.00         1\n",
      "         112       0.00      0.00      0.00         1\n",
      "         116       0.00      0.00      0.00         1\n",
      "         127       0.00      0.00      0.00         2\n",
      "         128       0.00      0.00      0.00         1\n",
      "         135       0.00      0.00      0.00         1\n",
      "         149       0.00      0.00      0.00         1\n",
      "         150       0.00      0.00      0.00         1\n",
      "         202       0.00      0.00      0.00         1\n",
      "         263       0.00      0.00      0.00         1\n",
      "         381       0.00      0.00      0.00         1\n",
      "         426       0.00      0.00      0.00         1\n",
      "\n",
      "    accuracy                           0.07       292\n",
      "   macro avg       0.00      0.01      0.00       292\n",
      "weighted avg       0.02      0.07      0.02       292\n",
      "\n"
     ]
    },
    {
     "name": "stderr",
     "output_type": "stream",
     "text": [
      "C:\\Users\\Vaishnavi Batchu\\Anaconda3\\lib\\site-packages\\sklearn\\metrics\\_classification.py:1221: UndefinedMetricWarning: Precision and F-score are ill-defined and being set to 0.0 in labels with no predicted samples. Use `zero_division` parameter to control this behavior.\n",
      "  _warn_prf(average, modifier, msg_start, len(result))\n"
     ]
    }
   ],
   "source": [
    "predictions = MLP.predict(X_test)\n",
    "val4 = (accuracy_score(y_test, predictions)*100)\n",
    "print(\"*Accuracy score for MLP: \", val4*10, \"\\n\")\n",
    "print(\"*Confusion Matrix for MLP: \")\n",
    "print(confusion_matrix(y_test, predictions))\n",
    "print(\"*Classification Report for MLP: \")\n",
    "print(classification_report(y_test, predictions))"
   ]
  },
  {
   "cell_type": "markdown",
   "metadata": {},
   "source": [
    "### Support Vector Machine "
   ]
  },
  {
   "cell_type": "code",
   "execution_count": 24,
   "metadata": {},
   "outputs": [],
   "source": [
    "from sklearn.svm import SVC\n",
    "SVM = SVC()\n",
    "SVM.fit(X_train, y_train)\n",
    "predictions = SVM.predict(X_test)"
   ]
  },
  {
   "cell_type": "code",
   "execution_count": 25,
   "metadata": {
    "collapsed": true
   },
   "outputs": [
    {
     "name": "stdout",
     "output_type": "stream",
     "text": [
      "*Accuracy score for SVM:  68.4931506849315 \n",
      "\n",
      "*Confusion Matrix for SVM: \n",
      "[[20  0  0 ...  0  0  0]\n",
      " [15  0  0 ...  0  0  0]\n",
      " [17  0  0 ...  0  0  0]\n",
      " ...\n",
      " [ 1  0  0 ...  0  0  0]\n",
      " [ 1  0  0 ...  0  0  0]\n",
      " [ 1  0  0 ...  0  0  0]]\n",
      "*Classification Report for SVM: \n",
      "              precision    recall  f1-score   support\n",
      "\n",
      "           0       0.07      1.00      0.13        20\n",
      "           1       0.00      0.00      0.00        15\n",
      "           2       0.00      0.00      0.00        17\n",
      "           3       0.00      0.00      0.00        13\n",
      "           4       0.00      0.00      0.00        10\n",
      "           5       0.00      0.00      0.00        16\n",
      "           6       0.00      0.00      0.00        20\n",
      "           7       0.00      0.00      0.00        13\n",
      "           8       0.00      0.00      0.00         8\n",
      "           9       0.00      0.00      0.00         7\n",
      "          10       0.00      0.00      0.00         8\n",
      "          11       0.00      0.00      0.00        10\n",
      "          12       0.00      0.00      0.00         4\n",
      "          13       0.00      0.00      0.00         4\n",
      "          14       0.00      0.00      0.00         2\n",
      "          15       0.00      0.00      0.00         3\n",
      "          16       0.00      0.00      0.00         8\n",
      "          17       0.00      0.00      0.00         8\n",
      "          18       0.00      0.00      0.00         1\n",
      "          19       0.00      0.00      0.00         4\n",
      "          20       0.00      0.00      0.00         4\n",
      "          21       0.00      0.00      0.00         6\n",
      "          22       0.00      0.00      0.00         4\n",
      "          23       0.00      0.00      0.00         7\n",
      "          24       0.00      0.00      0.00         3\n",
      "          25       0.00      0.00      0.00         2\n",
      "          26       0.00      0.00      0.00         3\n",
      "          27       0.00      0.00      0.00         2\n",
      "          28       0.00      0.00      0.00         5\n",
      "          29       0.00      0.00      0.00         1\n",
      "          30       0.00      0.00      0.00         1\n",
      "          31       0.00      0.00      0.00         4\n",
      "          32       0.00      0.00      0.00         2\n",
      "          33       0.00      0.00      0.00         2\n",
      "          34       0.00      0.00      0.00         1\n",
      "          35       0.00      0.00      0.00         1\n",
      "          36       0.00      0.00      0.00         2\n",
      "          37       0.00      0.00      0.00         2\n",
      "          38       0.00      0.00      0.00         4\n",
      "          40       0.00      0.00      0.00         2\n",
      "          41       0.00      0.00      0.00         1\n",
      "          44       0.00      0.00      0.00         1\n",
      "          46       0.00      0.00      0.00         1\n",
      "          50       0.00      0.00      0.00         1\n",
      "          52       0.00      0.00      0.00         1\n",
      "          53       0.00      0.00      0.00         1\n",
      "          54       0.00      0.00      0.00         1\n",
      "          55       0.00      0.00      0.00         3\n",
      "          56       0.00      0.00      0.00         1\n",
      "          58       0.00      0.00      0.00         1\n",
      "          59       0.00      0.00      0.00         1\n",
      "          62       0.00      0.00      0.00         1\n",
      "          64       0.00      0.00      0.00         1\n",
      "          65       0.00      0.00      0.00         1\n",
      "          67       0.00      0.00      0.00         1\n",
      "          71       0.00      0.00      0.00         1\n",
      "          72       0.00      0.00      0.00         2\n",
      "          73       0.00      0.00      0.00         1\n",
      "          74       0.00      0.00      0.00         1\n",
      "          76       0.00      0.00      0.00         1\n",
      "          78       0.00      0.00      0.00         1\n",
      "          83       0.00      0.00      0.00         1\n",
      "          84       0.00      0.00      0.00         1\n",
      "          85       0.00      0.00      0.00         1\n",
      "          89       0.00      0.00      0.00         1\n",
      "          90       0.00      0.00      0.00         1\n",
      "         102       0.00      0.00      0.00         1\n",
      "         106       0.00      0.00      0.00         1\n",
      "         112       0.00      0.00      0.00         1\n",
      "         116       0.00      0.00      0.00         1\n",
      "         127       0.00      0.00      0.00         2\n",
      "         128       0.00      0.00      0.00         1\n",
      "         135       0.00      0.00      0.00         1\n",
      "         149       0.00      0.00      0.00         1\n",
      "         150       0.00      0.00      0.00         1\n",
      "         202       0.00      0.00      0.00         1\n",
      "         263       0.00      0.00      0.00         1\n",
      "         381       0.00      0.00      0.00         1\n",
      "         426       0.00      0.00      0.00         1\n",
      "\n",
      "    accuracy                           0.07       292\n",
      "   macro avg       0.00      0.01      0.00       292\n",
      "weighted avg       0.00      0.07      0.01       292\n",
      "\n"
     ]
    },
    {
     "name": "stderr",
     "output_type": "stream",
     "text": [
      "C:\\Users\\Vaishnavi Batchu\\Anaconda3\\lib\\site-packages\\sklearn\\metrics\\_classification.py:1221: UndefinedMetricWarning: Precision and F-score are ill-defined and being set to 0.0 in labels with no predicted samples. Use `zero_division` parameter to control this behavior.\n",
      "  _warn_prf(average, modifier, msg_start, len(result))\n"
     ]
    }
   ],
   "source": [
    "val1 = (accuracy_score(y_test, predictions)*100)\n",
    "print(\"*Accuracy score for SVM: \", val1*10, \"\\n\")\n",
    "print(\"*Confusion Matrix for SVM: \")\n",
    "print(confusion_matrix(y_test, predictions))\n",
    "print(\"*Classification Report for SVM: \")\n",
    "print(classification_report(y_test, predictions))"
   ]
  },
  {
   "cell_type": "markdown",
   "metadata": {},
   "source": [
    "### Random Forest Regressor"
   ]
  },
  {
   "cell_type": "code",
   "execution_count": 29,
   "metadata": {},
   "outputs": [
    {
     "data": {
      "text/plain": [
       "RandomForestRegressor(n_estimators=300, random_state=0)"
      ]
     },
     "execution_count": 29,
     "metadata": {},
     "output_type": "execute_result"
    }
   ],
   "source": [
    "from sklearn.ensemble import RandomForestRegressor\n",
    "RF = RandomForestRegressor(n_estimators=300,random_state=0)\n",
    "RF.fit(X,y)"
   ]
  },
  {
   "cell_type": "code",
   "execution_count": 30,
   "metadata": {},
   "outputs": [],
   "source": [
    "# Predicting a new result\n",
    "y_pred = RF.predict(X_test)"
   ]
  },
  {
   "cell_type": "code",
   "execution_count": 31,
   "metadata": {},
   "outputs": [],
   "source": [
    "test_set_rmse_RF = (np.sqrt(mean_squared_error(y_test, y_pred)))\n",
    "\n",
    "test_set_r2_RF = r2_score(y_test, y_pred)"
   ]
  },
  {
   "cell_type": "code",
   "execution_count": 32,
   "metadata": {},
   "outputs": [
    {
     "name": "stdout",
     "output_type": "stream",
     "text": [
      "13.768855556128678\n",
      "0.9080777866929082\n"
     ]
    }
   ],
   "source": [
    "print(test_set_rmse_RF)\n",
    "print(test_set_r2_RF)"
   ]
  },
  {
   "cell_type": "code",
   "execution_count": 33,
   "metadata": {},
   "outputs": [
    {
     "name": "stderr",
     "output_type": "stream",
     "text": [
      "C:\\Users\\Vaishnavi Batchu\\Anaconda3\\lib\\site-packages\\ipykernel_launcher.py:10: FutureWarning: 'from_array' is deprecated and will be removed in a future version. Please use the pd.Series(..) constructor instead.\n",
      "  # Remove the CWD from sys.path while we load stuff.\n"
     ]
    },
    {
     "data": {
      "image/png": "[encoded data removed]",
      "text/plain": [
       "<Figure size 864x576 with 1 Axes>"
      ]
     },
     "metadata": {
      "needs_background": "light"
     },
     "output_type": "display_data"
    }
   ],
   "source": [
    "import numpy as np\n",
    "import pandas as pd\n",
    "import matplotlib.pyplot as plt\n",
    "\n",
    "# Bring some raw data.\n",
    "frequencies = [val1/100,val4/100,test_set_r2_RF,test_set_r2_LR]\n",
    "\n",
    "# In my original code I create a series and run on that,\n",
    "# so for consistency I create a series from the list.\n",
    "freq_series = pd.Series.from_array(frequencies)\n",
    "\n",
    "x_labels = ['SVM', 'MLP','RF-Reg','Linear Regression']\n",
    "\n",
    "# Plot the figure.\n",
    "plt.figure(figsize=(12, 8))\n",
    "ax = freq_series.plot(kind='bar')\n",
    "ax.set_title('Evaluation of ML & DL')\n",
    "ax.set_xlabel('Classifier!')\n",
    "ax.set_ylabel('Accuracy Range')\n",
    "ax.set_xticklabels(x_labels)\n",
    "\n",
    "\n",
    "def add_value_labels(ax, spacing=5):\n",
    "    \"\"\"Add labels to the end of each bar in a bar chart.\n",
    "\n",
    "    Arguments:\n",
    "        ax (matplotlib.axes.Axes): The matplotlib object containing the axes\n",
    "            of the plot to annotate.\n",
    "        spacing (int): The distance between the labels and the bars.\n",
    "    \"\"\"\n",
    "\n",
    "    # For each bar: Place a label\n",
    "    for rect in ax.patches:\n",
    "        # Get X and Y placement of label from rect.\n",
    "        y_value = rect.get_height()\n",
    "        x_value = rect.get_x() + rect.get_width() / 2\n",
    "\n",
    "        # Number of points between bar and label. Change to your liking.\n",
    "        space = spacing\n",
    "        # Vertical alignment for positive values\n",
    "        va = 'bottom'\n",
    "\n",
    "        # If value of bar is negative: Place label below bar\n",
    "        if y_value < 0:\n",
    "            # Invert space to place label below\n",
    "            space *= -1\n",
    "            # Vertically align label at top\n",
    "            va = 'top'\n",
    "\n",
    "        # Use Y value as label and format number with one decimal place\n",
    "        label = \"{:.1f}\".format(y_value)\n",
    "\n",
    "        # Create annotation\n",
    "        ax.annotate(\n",
    "            label,                      # Use `label` as label\n",
    "            (x_value, y_value),         # Place label at end of the bar\n",
    "            xytext=(0, space),          # Vertically shift label by `space`\n",
    "            textcoords=\"offset points\", # Interpret `xytext` as offset in points\n",
    "            ha='center',                # Horizontally center label\n",
    "            va=va)                      # Vertically align label differently for\n",
    "                                        # positive and negative values.\n",
    "\n",
    "\n",
    "# Call the function above. All the magic happens there.\n",
    "add_value_labels(ax)\n",
    "plt.show()\n",
    "#plt.savefig(\"image.png\")"
   ]
  },
  {
   "cell_type": "markdown",
   "metadata": {},
   "source": [
    "### Testing the model using random data"
   ]
  },
  {
   "cell_type": "code",
   "execution_count": 34,
   "metadata": {},
   "outputs": [
    {
     "data": {
      "text/plain": [
       "array([16.23])"
      ]
     },
     "execution_count": 34,
     "metadata": {},
     "output_type": "execute_result"
    }
   ],
   "source": [
    "random_data=[[-0.0189,-0.0189,0.1027286,0.0912,78.6,298.4928571,298.55,294.5271429,25.37,78.78142857,26.52857143]]\n",
    "random_data1=RF.predict(random_data)\n",
    "random_data1"
   ]
  },
  {
   "cell_type": "code",
   "execution_count": null,
   "metadata": {},
   "outputs": [],
   "source": []
  }
 ],
 "metadata": {
  "kernelspec": {
   "display_name": "Python 3",
   "language": "python",
   "name": "python3"
  },
  "language_info": {
   "codemirror_mode": {
    "name": "ipython",
    "version": 3
   },
   "file_extension": ".py",
   "mimetype": "text/x-python",
   "name": "python",
   "nbconvert_exporter": "python",
   "pygments_lexer": "ipython3",
   "version": "3.7.4"
  }
 },
 "nbformat": 4,
 "nbformat_minor": 2
}
